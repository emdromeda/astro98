{
 "cells": [
  {
   "cell_type": "code",
   "execution_count": 1,
   "id": "3fc26cc6-5d1c-4d56-9f5b-819fb4fdf9e6",
   "metadata": {},
   "outputs": [],
   "source": [
    "import numpy as np\n",
    "import matplotlib.pyplot as plt"
   ]
  },
  {
   "cell_type": "code",
   "execution_count": null,
   "id": "38d866c7-3514-4c3e-ad8c-0a4aaddb8571",
   "metadata": {},
   "outputs": [],
   "source": [
    "def sin(x,A,w):\n",
    "    return A*np.sin(w*x)\n",
    "x=np.arange(0, 2*np.pi, (2*np.pi)/1000)\n",
    "A=np.arange(1,5)\n",
    "w=np.arange(1,5)"
   ]
  },
  {
   "cell_type": "code",
   "execution_count": 2,
   "id": "a73cdaff-3c4d-4336-8402-780b67f04c95",
   "metadata": {},
   "outputs": [
    {
     "ename": "SyntaxError",
     "evalue": "incomplete input (237996714.py, line 2)",
     "output_type": "error",
     "traceback": [
      "\u001b[0;36m  Cell \u001b[0;32mIn[2], line 2\u001b[0;36m\u001b[0m\n\u001b[0;31m    for i in range(5):\u001b[0m\n\u001b[0m                      ^\u001b[0m\n\u001b[0;31mSyntaxError\u001b[0m\u001b[0;31m:\u001b[0m incomplete input\n"
     ]
    }
   ],
   "source": [
    "plt.figure()\n",
    "for i in range(4):\n",
    "    y=sin(x, A[i], w[i])\n",
    "    plt.plot(x,y)\n",
    "plt.show()\n"
   ]
  },
  {
   "cell_type": "code",
   "execution_count": null,
   "id": "395d723f",
   "metadata": {},
   "outputs": [],
   "source": []
  }
 ],
 "metadata": {
  "kernelspec": {
   "display_name": "base",
   "language": "python",
   "name": "python3"
  },
  "language_info": {
   "codemirror_mode": {
    "name": "ipython",
    "version": 3
   },
   "file_extension": ".py",
   "mimetype": "text/x-python",
   "name": "python",
   "nbconvert_exporter": "python",
   "pygments_lexer": "ipython3",
   "version": "3.12.4"
  }
 },
 "nbformat": 4,
 "nbformat_minor": 5
}
